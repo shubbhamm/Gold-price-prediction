{
 "cells": [
  {
   "cell_type": "code",
   "execution_count": 1,
   "id": "b8c82791",
   "metadata": {},
   "outputs": [],
   "source": [
    "import pandas as pd\n",
    "import numpy as np\n",
    "import matplotlib.pyplot as plt\n",
    "import seaborn as sns\n",
    "from sklearn.model_selection import train_test_split\n",
    "from sklearn.ensemble import RandomForestRegressor\n",
    "from sklearn import metrics\n"
   ]
  },
  {
   "cell_type": "code",
   "execution_count": 2,
   "id": "cd321fff",
   "metadata": {},
   "outputs": [],
   "source": [
    "gold = pd.read_csv('gld_price_data.csv')"
   ]
  },
  {
   "cell_type": "code",
   "execution_count": 3,
   "id": "f09da96b",
   "metadata": {},
   "outputs": [
    {
     "data": {
      "text/html": [
       "<div>\n",
       "<style scoped>\n",
       "    .dataframe tbody tr th:only-of-type {\n",
       "        vertical-align: middle;\n",
       "    }\n",
       "\n",
       "    .dataframe tbody tr th {\n",
       "        vertical-align: top;\n",
       "    }\n",
       "\n",
       "    .dataframe thead th {\n",
       "        text-align: right;\n",
       "    }\n",
       "</style>\n",
       "<table border=\"1\" class=\"dataframe\">\n",
       "  <thead>\n",
       "    <tr style=\"text-align: right;\">\n",
       "      <th></th>\n",
       "      <th>Date</th>\n",
       "      <th>SPX</th>\n",
       "      <th>GLD</th>\n",
       "      <th>USO</th>\n",
       "      <th>SLV</th>\n",
       "      <th>EUR/USD</th>\n",
       "    </tr>\n",
       "  </thead>\n",
       "  <tbody>\n",
       "    <tr>\n",
       "      <th>0</th>\n",
       "      <td>1/2/2008</td>\n",
       "      <td>1447.160034</td>\n",
       "      <td>84.860001</td>\n",
       "      <td>78.470001</td>\n",
       "      <td>15.180</td>\n",
       "      <td>1.471692</td>\n",
       "    </tr>\n",
       "    <tr>\n",
       "      <th>1</th>\n",
       "      <td>1/3/2008</td>\n",
       "      <td>1447.160034</td>\n",
       "      <td>85.570000</td>\n",
       "      <td>78.370003</td>\n",
       "      <td>15.285</td>\n",
       "      <td>1.474491</td>\n",
       "    </tr>\n",
       "    <tr>\n",
       "      <th>2</th>\n",
       "      <td>1/4/2008</td>\n",
       "      <td>1411.630005</td>\n",
       "      <td>85.129997</td>\n",
       "      <td>77.309998</td>\n",
       "      <td>15.167</td>\n",
       "      <td>1.475492</td>\n",
       "    </tr>\n",
       "    <tr>\n",
       "      <th>3</th>\n",
       "      <td>1/7/2008</td>\n",
       "      <td>1416.180054</td>\n",
       "      <td>84.769997</td>\n",
       "      <td>75.500000</td>\n",
       "      <td>15.053</td>\n",
       "      <td>1.468299</td>\n",
       "    </tr>\n",
       "    <tr>\n",
       "      <th>4</th>\n",
       "      <td>1/8/2008</td>\n",
       "      <td>1390.189941</td>\n",
       "      <td>86.779999</td>\n",
       "      <td>76.059998</td>\n",
       "      <td>15.590</td>\n",
       "      <td>1.557099</td>\n",
       "    </tr>\n",
       "  </tbody>\n",
       "</table>\n",
       "</div>"
      ],
      "text/plain": [
       "       Date          SPX        GLD        USO     SLV   EUR/USD\n",
       "0  1/2/2008  1447.160034  84.860001  78.470001  15.180  1.471692\n",
       "1  1/3/2008  1447.160034  85.570000  78.370003  15.285  1.474491\n",
       "2  1/4/2008  1411.630005  85.129997  77.309998  15.167  1.475492\n",
       "3  1/7/2008  1416.180054  84.769997  75.500000  15.053  1.468299\n",
       "4  1/8/2008  1390.189941  86.779999  76.059998  15.590  1.557099"
      ]
     },
     "execution_count": 3,
     "metadata": {},
     "output_type": "execute_result"
    }
   ],
   "source": [
    "gold.head()"
   ]
  },
  {
   "cell_type": "code",
   "execution_count": 4,
   "id": "b58e9292",
   "metadata": {},
   "outputs": [],
   "source": [
    "#spx is stock value\n",
    "#gld is gold value\n",
    "#uso is united states oil price\n",
    "#slv is silver value\n",
    "#eur/usd is currency "
   ]
  },
  {
   "cell_type": "code",
   "execution_count": 5,
   "id": "a2dea791",
   "metadata": {},
   "outputs": [
    {
     "name": "stdout",
     "output_type": "stream",
     "text": [
      "<class 'pandas.core.frame.DataFrame'>\n",
      "RangeIndex: 2290 entries, 0 to 2289\n",
      "Data columns (total 6 columns):\n",
      " #   Column   Non-Null Count  Dtype  \n",
      "---  ------   --------------  -----  \n",
      " 0   Date     2290 non-null   object \n",
      " 1   SPX      2290 non-null   float64\n",
      " 2   GLD      2290 non-null   float64\n",
      " 3   USO      2290 non-null   float64\n",
      " 4   SLV      2290 non-null   float64\n",
      " 5   EUR/USD  2290 non-null   float64\n",
      "dtypes: float64(5), object(1)\n",
      "memory usage: 107.5+ KB\n"
     ]
    }
   ],
   "source": [
    "gold.info()"
   ]
  },
  {
   "cell_type": "code",
   "execution_count": 6,
   "id": "07d75838",
   "metadata": {},
   "outputs": [
    {
     "data": {
      "text/plain": [
       "Date       0\n",
       "SPX        0\n",
       "GLD        0\n",
       "USO        0\n",
       "SLV        0\n",
       "EUR/USD    0\n",
       "dtype: int64"
      ]
     },
     "execution_count": 6,
     "metadata": {},
     "output_type": "execute_result"
    }
   ],
   "source": [
    "gold.isnull().sum()"
   ]
  },
  {
   "cell_type": "code",
   "execution_count": 7,
   "id": "ad63650f",
   "metadata": {},
   "outputs": [
    {
     "data": {
      "text/plain": [
       "(2290, 6)"
      ]
     },
     "execution_count": 7,
     "metadata": {},
     "output_type": "execute_result"
    }
   ],
   "source": [
    "gold.shape"
   ]
  },
  {
   "cell_type": "code",
   "execution_count": 8,
   "id": "b015522a",
   "metadata": {},
   "outputs": [
    {
     "data": {
      "text/html": [
       "<div>\n",
       "<style scoped>\n",
       "    .dataframe tbody tr th:only-of-type {\n",
       "        vertical-align: middle;\n",
       "    }\n",
       "\n",
       "    .dataframe tbody tr th {\n",
       "        vertical-align: top;\n",
       "    }\n",
       "\n",
       "    .dataframe thead th {\n",
       "        text-align: right;\n",
       "    }\n",
       "</style>\n",
       "<table border=\"1\" class=\"dataframe\">\n",
       "  <thead>\n",
       "    <tr style=\"text-align: right;\">\n",
       "      <th></th>\n",
       "      <th>SPX</th>\n",
       "      <th>GLD</th>\n",
       "      <th>USO</th>\n",
       "      <th>SLV</th>\n",
       "      <th>EUR/USD</th>\n",
       "    </tr>\n",
       "  </thead>\n",
       "  <tbody>\n",
       "    <tr>\n",
       "      <th>count</th>\n",
       "      <td>2290.000000</td>\n",
       "      <td>2290.000000</td>\n",
       "      <td>2290.000000</td>\n",
       "      <td>2290.000000</td>\n",
       "      <td>2290.000000</td>\n",
       "    </tr>\n",
       "    <tr>\n",
       "      <th>mean</th>\n",
       "      <td>1654.315776</td>\n",
       "      <td>122.732875</td>\n",
       "      <td>31.842221</td>\n",
       "      <td>20.084997</td>\n",
       "      <td>1.283653</td>\n",
       "    </tr>\n",
       "    <tr>\n",
       "      <th>std</th>\n",
       "      <td>519.111540</td>\n",
       "      <td>23.283346</td>\n",
       "      <td>19.523517</td>\n",
       "      <td>7.092566</td>\n",
       "      <td>0.131547</td>\n",
       "    </tr>\n",
       "    <tr>\n",
       "      <th>min</th>\n",
       "      <td>676.530029</td>\n",
       "      <td>70.000000</td>\n",
       "      <td>7.960000</td>\n",
       "      <td>8.850000</td>\n",
       "      <td>1.039047</td>\n",
       "    </tr>\n",
       "    <tr>\n",
       "      <th>25%</th>\n",
       "      <td>1239.874969</td>\n",
       "      <td>109.725000</td>\n",
       "      <td>14.380000</td>\n",
       "      <td>15.570000</td>\n",
       "      <td>1.171313</td>\n",
       "    </tr>\n",
       "    <tr>\n",
       "      <th>50%</th>\n",
       "      <td>1551.434998</td>\n",
       "      <td>120.580002</td>\n",
       "      <td>33.869999</td>\n",
       "      <td>17.268500</td>\n",
       "      <td>1.303297</td>\n",
       "    </tr>\n",
       "    <tr>\n",
       "      <th>75%</th>\n",
       "      <td>2073.010070</td>\n",
       "      <td>132.840004</td>\n",
       "      <td>37.827501</td>\n",
       "      <td>22.882500</td>\n",
       "      <td>1.369971</td>\n",
       "    </tr>\n",
       "    <tr>\n",
       "      <th>max</th>\n",
       "      <td>2872.870117</td>\n",
       "      <td>184.589996</td>\n",
       "      <td>117.480003</td>\n",
       "      <td>47.259998</td>\n",
       "      <td>1.598798</td>\n",
       "    </tr>\n",
       "  </tbody>\n",
       "</table>\n",
       "</div>"
      ],
      "text/plain": [
       "               SPX          GLD          USO          SLV      EUR/USD\n",
       "count  2290.000000  2290.000000  2290.000000  2290.000000  2290.000000\n",
       "mean   1654.315776   122.732875    31.842221    20.084997     1.283653\n",
       "std     519.111540    23.283346    19.523517     7.092566     0.131547\n",
       "min     676.530029    70.000000     7.960000     8.850000     1.039047\n",
       "25%    1239.874969   109.725000    14.380000    15.570000     1.171313\n",
       "50%    1551.434998   120.580002    33.869999    17.268500     1.303297\n",
       "75%    2073.010070   132.840004    37.827501    22.882500     1.369971\n",
       "max    2872.870117   184.589996   117.480003    47.259998     1.598798"
      ]
     },
     "execution_count": 8,
     "metadata": {},
     "output_type": "execute_result"
    }
   ],
   "source": [
    "#statistical  measure of data\n",
    "gold.describe()"
   ]
  },
  {
   "cell_type": "code",
   "execution_count": 9,
   "id": "fa0277d2",
   "metadata": {},
   "outputs": [],
   "source": [
    "#Correlation\n",
    "#1.positive correlation\n",
    "#2.negative correlation\n",
    "\n",
    "correlation = gold.corr()\n"
   ]
  },
  {
   "cell_type": "code",
   "execution_count": 12,
   "id": "5052fbbc",
   "metadata": {},
   "outputs": [
    {
     "data": {
      "text/plain": [
       "<AxesSubplot:>"
      ]
     },
     "execution_count": 12,
     "metadata": {},
     "output_type": "execute_result"
    },
    {
     "data": {
      "image/png": "[encoded data removed]",
      "text/plain": [
       "<Figure size 576x576 with 2 Axes>"
      ]
     },
     "metadata": {
      "needs_background": "light"
     },
     "output_type": "display_data"
    }
   ],
   "source": [
    "#heatmap to understand the correlation\n",
    "plt.figure(figsize = (8,8))\n",
    "sns.heatmap(correlation, cbar=True, square=True, fmt='.1f',annot=True, annot_kws={'size':8}, cmap='Blues')\n"
   ]
  },
  {
   "cell_type": "code",
   "execution_count": 14,
   "id": "f0dd29a7",
   "metadata": {},
   "outputs": [
    {
     "name": "stdout",
     "output_type": "stream",
     "text": [
      "SPX        0.049345\n",
      "GLD        1.000000\n",
      "USO       -0.186360\n",
      "SLV        0.866632\n",
      "EUR/USD   -0.024375\n",
      "Name: GLD, dtype: float64\n"
     ]
    }
   ],
   "source": [
    "#corrlelation values of gold\n",
    "\n",
    "print(correlation['GLD'])"
   ]
  },
  {
   "cell_type": "code",
   "execution_count": 16,
   "id": "dc1cd30f",
   "metadata": {},
   "outputs": [
    {
     "name": "stderr",
     "output_type": "stream",
     "text": [
      "C:\\Users\\91899\\Anaconda3\\lib\\site-packages\\seaborn\\distributions.py:2557: FutureWarning: `distplot` is a deprecated function and will be removed in a future version. Please adapt your code to use either `displot` (a figure-level function with similar flexibility) or `histplot` (an axes-level function for histograms).\n",
      "  warnings.warn(msg, FutureWarning)\n"
     ]
    },
    {
     "data": {
      "text/plain": [
       "<AxesSubplot:xlabel='GLD', ylabel='Density'>"
      ]
     },
     "execution_count": 16,
     "metadata": {},
     "output_type": "execute_result"
    },
    {
     "data": {
      "image/png": "[encoded data removed]",
      "text/plain": [
       "<Figure size 432x288 with 1 Axes>"
      ]
     },
     "metadata": {
      "needs_background": "light"
     },
     "output_type": "display_data"
    }
   ],
   "source": [
    "# checking the distribution of the GLD Price\n",
    "sns.distplot(gold['GLD'],color='green')"
   ]
  },
  {
   "cell_type": "code",
   "execution_count": 17,
   "id": "bca15e92",
   "metadata": {},
   "outputs": [],
   "source": [
    "#Splitting the Features and Target\n",
    "X = gold.drop(['Date','GLD'],axis=1)\n",
    "Y = gold['GLD']"
   ]
  },
  {
   "cell_type": "code",
   "execution_count": 18,
   "id": "6396588a",
   "metadata": {},
   "outputs": [
    {
     "name": "stdout",
     "output_type": "stream",
     "text": [
      "              SPX        USO      SLV   EUR/USD\n",
      "0     1447.160034  78.470001  15.1800  1.471692\n",
      "1     1447.160034  78.370003  15.2850  1.474491\n",
      "2     1411.630005  77.309998  15.1670  1.475492\n",
      "3     1416.180054  75.500000  15.0530  1.468299\n",
      "4     1390.189941  76.059998  15.5900  1.557099\n",
      "...           ...        ...      ...       ...\n",
      "2285  2671.919922  14.060000  15.5100  1.186789\n",
      "2286  2697.790039  14.370000  15.5300  1.184722\n",
      "2287  2723.070068  14.410000  15.7400  1.191753\n",
      "2288  2730.129883  14.380000  15.5600  1.193118\n",
      "2289  2725.780029  14.405800  15.4542  1.182033\n",
      "\n",
      "[2290 rows x 4 columns]\n"
     ]
    }
   ],
   "source": [
    "print(X)"
   ]
  },
  {
   "cell_type": "code",
   "execution_count": 19,
   "id": "61b4e540",
   "metadata": {},
   "outputs": [
    {
     "name": "stdout",
     "output_type": "stream",
     "text": [
      "0        84.860001\n",
      "1        85.570000\n",
      "2        85.129997\n",
      "3        84.769997\n",
      "4        86.779999\n",
      "           ...    \n",
      "2285    124.589996\n",
      "2286    124.330002\n",
      "2287    125.180000\n",
      "2288    124.489998\n",
      "2289    122.543800\n",
      "Name: GLD, Length: 2290, dtype: float64\n"
     ]
    }
   ],
   "source": [
    "print(Y)"
   ]
  },
  {
   "cell_type": "code",
   "execution_count": 20,
   "id": "c87c8a9b",
   "metadata": {},
   "outputs": [],
   "source": [
    "#Splitting into Training data and Test Data\n",
    "X_train, X_test, Y_train, Y_test = train_test_split(X, Y, test_size = 0.2, random_state=2)"
   ]
  },
  {
   "cell_type": "code",
   "execution_count": 21,
   "id": "765db8fc",
   "metadata": {},
   "outputs": [],
   "source": [
    "#Model Training: Random Forest Regressor\n",
    "regressor = RandomForestRegressor(n_estimators=100)"
   ]
  },
  {
   "cell_type": "code",
   "execution_count": 22,
   "id": "78bad218",
   "metadata": {},
   "outputs": [
    {
     "data": {
      "text/plain": [
       "RandomForestRegressor()"
      ]
     },
     "execution_count": 22,
     "metadata": {},
     "output_type": "execute_result"
    }
   ],
   "source": [
    "# training the model\n",
    "regressor.fit(X_train,Y_train)"
   ]
  },
  {
   "cell_type": "code",
   "execution_count": 23,
   "id": "fdeacb95",
   "metadata": {},
   "outputs": [],
   "source": [
    "#Model Evaluation\n",
    "# prediction on Test Data\n",
    "test_data_prediction = regressor.predict(X_test)"
   ]
  },
  {
   "cell_type": "code",
   "execution_count": 24,
   "id": "8cf84585",
   "metadata": {},
   "outputs": [
    {
     "name": "stdout",
     "output_type": "stream",
     "text": [
      "[168.58329971  81.72450011 116.31580039 127.65840065 120.7137014\n",
      " 154.7477969  150.62269861 126.2368001  117.59149897 125.89280096\n",
      " 116.66500124 171.80710113 141.53559816 167.97529846 115.05120004\n",
      " 117.41940062 139.49910278 170.21140084 159.43440241 159.55769996\n",
      " 155.15590006 124.98620023 174.84909921 156.593604   125.28580061\n",
      "  93.79119974  77.66980026 120.12369986 119.11019976 167.44820033\n",
      "  88.14790076 125.16000005  91.25700057 117.75380028 121.14229901\n",
      " 136.59400066 115.448501   115.32750071 148.61850028 107.18250123\n",
      " 104.24680225  87.13889796 126.45000053 117.93120008 153.43999925\n",
      " 119.49980024 108.40969986 108.11919813  93.11330022 126.93729812\n",
      "  74.7986004  113.56679896 121.44180025 111.34059927 118.77759908\n",
      " 120.5701994  159.28800013 170.0291008  147.02029709  85.71929802\n",
      "  94.50070028  86.83639878  90.46300042 118.99090084 126.4087008\n",
      " 127.50299989 169.25079924 122.33989962 117.32749927  98.94720031\n",
      " 168.20600149 142.97769798 132.63740221 121.14960196 120.74829932\n",
      " 119.88800063 114.66920167 118.25440055 107.16420112 127.96690058\n",
      " 113.76929967 107.37669995 116.93170011 119.73209907  88.72050014\n",
      "  88.40699871 146.1588028  127.22939998 113.41610045 110.04409845\n",
      " 108.2966988   77.57139915 169.09950193 114.01239905 121.69119948\n",
      " 127.73460196 154.71639816  91.70879936 135.54810056 158.88760353\n",
      " 125.7093002  125.47790059 130.73120242 114.8474015  119.82550023\n",
      "  92.09019965 110.27029891 168.47959972 157.59919892 114.10249967\n",
      " 106.6956011   79.1498998  113.20680011 125.84400079 107.06519953\n",
      " 119.2234005  156.06240355 159.58089929 120.42550004 135.37560308\n",
      " 101.35469982 117.42319826 119.17260061 112.81890081 102.81809933\n",
      " 160.35259757  99.08490037 148.42219929 125.73090114 170.16439887\n",
      " 125.52629908 127.33429764 127.4320019  113.70789948 112.79710094\n",
      " 123.51699911 102.17989907  89.40529991 124.14159962 102.30059933\n",
      " 107.32809941 113.5965008  117.30510082  99.19269944 121.81400045\n",
      " 163.53539934  87.24539838 106.85859991 117.42000076 127.65510101\n",
      " 124.20020085  80.69189939 120.59730042 157.90669799  87.95049954\n",
      " 110.46579958 119.13049902 172.40329874 102.94339921 105.52630048\n",
      " 122.46450031 157.91959775  87.50129817  92.89120034 112.50560029\n",
      " 176.79629932 114.26629962 119.12190046  94.64070108 125.92740013\n",
      " 166.4921005  114.84220087 116.91710142  88.45889887 148.65620102\n",
      " 120.30459947  89.29420002 112.11250041 117.13990007 118.65550122\n",
      "  88.1505994   94.18989997 116.90570021 118.59350191 120.3332003\n",
      " 126.77429814 121.80890014 148.58880033 165.34120054 118.50109996\n",
      " 120.17790144 151.1632997  118.36499928 172.73199883 105.86229907\n",
      " 104.89310126 149.17480117 113.7509006  124.8554012  147.23549957\n",
      " 119.46040107 115.36430066 112.66380042 113.62940173 141.91080087\n",
      " 118.00439757 102.97770029 115.94020112 103.53740173  99.06260041\n",
      " 117.43010057  90.66210035  91.65800009 153.42849887 102.6864998\n",
      " 154.87000058 114.51390108 138.78460126  90.02809791 115.44419945\n",
      " 114.59589961 122.81090002 121.72730043 165.21780116  92.83329904\n",
      " 135.34330171 121.33879962 120.86160081 104.57520019 142.04090275\n",
      " 121.62419893 116.59390032 113.36690152 127.2298972  122.69429974\n",
      " 125.77529975 121.23010072  86.95659923 132.3438017  145.1523021\n",
      "  92.84319935 157.67239953 159.1999018  126.63849852 164.799599\n",
      " 108.83679959 110.33640056 103.521698    94.28800049 127.72210268\n",
      " 106.95980064 161.61589959 121.84910025 132.35390023 130.66140198\n",
      " 160.61950014  90.11449809 174.05800102 127.86640017 126.84559834\n",
      "  86.15059896 124.45629947 150.1403973   89.54360033 107.02409994\n",
      " 108.87189998  83.75889881 135.76790062 155.14760134 139.67800386\n",
      "  74.20520006 152.6358005  126.43580001 126.75370016 127.55439873\n",
      " 108.4831994  156.48079981 114.54190109 117.1321013  125.20979954\n",
      " 153.84560129 121.12860011 156.31839921  92.93790041 125.62910154\n",
      " 125.72530034  88.06610054  92.07729919 126.30629909 128.0644037\n",
      " 113.17420049 117.70119754 120.90850029 126.94219829 119.48640098\n",
      " 136.60760073  93.97349953 119.77820053 113.28240127  94.3335996\n",
      " 108.71399987  86.92929909 108.98439953  89.6300999   92.38569983\n",
      " 131.65630235 162.36930093  89.26730021 119.73910111 133.09360181\n",
      " 123.85200029 128.33220152 101.96229853  88.88209861 131.97480106\n",
      " 119.70810014 108.75039991 168.21490086 115.17580044  86.61919908\n",
      " 118.76460087  90.97509982 161.98140069 116.65720039 121.5927999\n",
      " 160.16719841 119.88789934 112.55449973 108.4502986  126.88209943\n",
      "  76.16570055 102.94029974 127.61860278 121.73749933  92.61939933\n",
      " 132.0431001  118.28240135 115.92209992 154.84840216 159.73620102\n",
      " 110.1345993  156.40779839 119.33140119 160.88540055 118.7945007\n",
      " 157.94480018 115.10249942 116.53850028 150.54429931 114.81630079\n",
      " 125.68839884 165.85339906 117.64980027 124.96679909 153.46100282\n",
      " 153.3909022  132.29240018 114.77370045 121.2568016  124.75860069\n",
      "  89.82050054 122.9644995  155.41990202 111.6966004  106.8279001\n",
      " 161.98450109 118.73819986 165.82930021 134.07730074 114.54339943\n",
      " 152.93719892 168.6357994  115.38210036 113.85860122 159.20049948\n",
      "  85.21869936 127.15100071 128.04470063 128.90759957 124.15730066\n",
      " 123.83260068  90.69970079 153.26609983  97.1326997  137.67029971\n",
      "  89.0426992  107.27809993 115.18030045 112.60810109 124.29109907\n",
      "  91.33419872 125.52790143 162.44979904 119.73529898 164.88640104\n",
      " 126.82139813 112.22359988 127.46509892  94.88269887  90.84670006\n",
      " 103.32399909 120.83960018  83.15819936 126.46090008 160.32590466\n",
      " 117.45420074 118.37389986 119.6608     122.53989991 120.10800114\n",
      " 121.45080029 118.38590034 107.05010006 147.85509988 126.01099906\n",
      " 115.77360077  74.11979987 127.83940078 154.43650078 122.65129988\n",
      " 125.60380057  88.82250006 103.1157985  124.71290061 120.08310028\n",
      "  73.37800087 151.93399943 121.33120048 104.63399989  86.42839803\n",
      " 115.08899918 172.17319729 119.76920002 160.13019854 113.21069951\n",
      " 121.39340018 118.7931008   95.9880999  118.85819981 125.94010033\n",
      " 118.57669959  95.88470032 154.05180165 122.12900022 147.63589995\n",
      " 159.5668024  113.78170009 122.39759961 149.94129797 127.21830039\n",
      " 165.74640062 135.30890017 120.17079979 167.62729883 108.50179932\n",
      " 121.69209854 140.01630134 107.61409875]\n"
     ]
    }
   ],
   "source": [
    "print(test_data_prediction)"
   ]
  },
  {
   "cell_type": "code",
   "execution_count": 25,
   "id": "ffb9bfa7",
   "metadata": {},
   "outputs": [
    {
     "name": "stdout",
     "output_type": "stream",
     "text": [
      "R squared error :  0.988743836542931\n"
     ]
    }
   ],
   "source": [
    "# R squared error\n",
    "error_score = metrics.r2_score(Y_test, test_data_prediction)\n",
    "print(\"R squared error : \", error_score)"
   ]
  },
  {
   "cell_type": "code",
   "execution_count": 26,
   "id": "9116f284",
   "metadata": {},
   "outputs": [],
   "source": [
    "#Compare the Actual Values and Predicted Values in a Plot\n",
    "Y_test = list(Y_test)"
   ]
  },
  {
   "cell_type": "code",
   "execution_count": 30,
   "id": "c0dee072",
   "metadata": {},
   "outputs": [
    {
     "data": {
      "image/png": "[encoded data removed]",
      "text/plain": [
       "<Figure size 432x288 with 1 Axes>"
      ]
     },
     "metadata": {
      "needs_background": "light"
     },
     "output_type": "display_data"
    }
   ],
   "source": [
    "plt.plot(Y_test, color='blue', label = 'Actual Value')\n",
    "plt.plot(test_data_prediction, color='red', label='Predicted Value')\n",
    "plt.title('Actual Price vs Predicted Price')\n",
    "plt.xlabel('Number of values')\n",
    "plt.ylabel('GLD Price')\n",
    "plt.legend()\n",
    "plt.show()"
   ]
  },
  {
   "cell_type": "code",
   "execution_count": null,
   "id": "3ebf4c1d",
   "metadata": {},
   "outputs": [],
   "source": []
  }
 ],
 "metadata": {
  "kernelspec": {
   "display_name": "Python 3",
   "language": "python",
   "name": "python3"
  },
  "language_info": {
   "codemirror_mode": {
    "name": "ipython",
    "version": 3
   },
   "file_extension": ".py",
   "mimetype": "text/x-python",
   "name": "python",
   "nbconvert_exporter": "python",
   "pygments_lexer": "ipython3",
   "version": "3.8.8"
  }
 },
 "nbformat": 4,
 "nbformat_minor": 5
}
